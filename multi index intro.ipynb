{
 "cells": [
  {
   "cell_type": "code",
   "execution_count": null,
   "metadata": {},
   "outputs": [],
   "source": [
    "import pandas as pd\n",
    "import numpy as np"
   ]
  },
  {
   "cell_type": "code",
   "execution_count": null,
   "metadata": {},
   "outputs": [],
   "source": [
    "tuples = [('A', 1), ('A', 2), ('B', 1), ('B', 2)]\n",
    "index = pd.MultiIndex.from_tuples(tuples, names=['letters', 'numbers'])\n",
    "data = {'values': [10, 20, 30, 40]}\n",
    "df = pd.DataFrame(data, index=index)\n",
    "df"
   ]
  },
  {
   "cell_type": "code",
   "execution_count": null,
   "metadata": {},
   "outputs": [],
   "source": [
    "df.loc['A']"
   ]
  },
  {
   "cell_type": "code",
   "execution_count": null,
   "metadata": {},
   "outputs": [],
   "source": [
    "df.loc['A', 1]"
   ]
  },
  {
   "cell_type": "code",
   "execution_count": null,
   "metadata": {},
   "outputs": [],
   "source": [
    "tuples = [('A', 1), ('A', 2), ('B', 1), ('B', 2)]\n",
    "index = pd.MultiIndex.from_tuples(tuples, names=['letters', 'numbers'])\n",
    "data = {'Value1': [1, 2, 3, 4],\n",
    "        'Value2': [5, 6, 7, 8],\n",
    "        'Value3': [9, 10, 11, 12]}\n",
    "df = pd.DataFrame(data, index=index)\n",
    "df"
   ]
  },
  {
   "cell_type": "code",
   "execution_count": null,
   "metadata": {},
   "outputs": [],
   "source": [
    "df.loc[('A', 1), 'Value3']"
   ]
  },
  {
   "cell_type": "code",
   "execution_count": null,
   "metadata": {},
   "outputs": [],
   "source": [
    "tuples = [('A', 1, 'yes'), ('A', 1, 'no'), ('A', 2, 'yes'), ('A', 2, 'no'), ('B', 1, 'yes'), ('B', 1, 'no'), ('B', 2, 'yes'), ('B', 2, 'no')]\n",
    "index = pd.MultiIndex.from_tuples(tuples, names=['letters', 'numbers','types'])\n",
    "data = {'Value1': [1, 2, 3, 4, 5, 6, 7, 8],\n",
    "        'Value2': [9, 10, 11, 12, 13, 14, 15, 16],\n",
    "        'Value3': [17, 18, 19, 20, 21, 22, 23, 24]}\n",
    "df = pd.DataFrame(data, index=index)\n",
    "df"
   ]
  },
  {
   "cell_type": "code",
   "execution_count": null,
   "metadata": {},
   "outputs": [],
   "source": [
    "df.loc[('A', 1, 'yes'), 'Value3']"
   ]
  },
  {
   "cell_type": "code",
   "execution_count": null,
   "metadata": {},
   "outputs": [],
   "source": [
    "tuples = [('A', 1), ('A', 2), ('B', 1), ('B', 2)]\n",
    "index = pd.MultiIndex.from_tuples(tuples, names=['letters', 'numbers'])\n",
    "data = {'Value1': [1, 2, 3, 4],\n",
    "        'Value2': [5, 6, 7, 8],\n",
    "        'Value3': [9, 10, 11, 12]}\n",
    "df = pd.DataFrame(data, index=index)\n",
    "df"
   ]
  },
  {
   "cell_type": "code",
   "execution_count": null,
   "metadata": {},
   "outputs": [],
   "source": [
    "arrays = [\n",
    "    ['A', 'B']*4,\n",
    "    [1, 2]*4,\n",
    "    ['yes', 'no']*4\n",
    "]\n",
    "index = pd.MultiIndex.from_arrays(arrays, names=('Letters', 'Numbers', 'types'))\n",
    "data = [10, 20, 30, 40, 10, 20, 30, 40]\n",
    "df = pd.DataFrame(data, index=index, columns=['Values'])\n",
    "df"
   ]
  },
  {
   "cell_type": "code",
   "execution_count": null,
   "metadata": {},
   "outputs": [],
   "source": [
    "arrays = [\n",
    "    ['A', 'B']*4,\n",
    "    [1, 2]*4,\n",
    "    ['yes', 'no']*4\n",
    "]\n",
    "index = pd.MultiIndex.from_arrays(arrays, names=('Letters', 'Numbers', 'types'))\n",
    "data = {'Values1': [10, 20, 30, 40, 10, 20, 30, 40],\n",
    "        'Values2': [1, 2 , 3, 4, 5, 6, 7, 8]}\n",
    "df = pd.DataFrame(data, index=index)\n",
    "df"
   ]
  },
  {
   "cell_type": "code",
   "execution_count": null,
   "metadata": {},
   "outputs": [],
   "source": [
    "df.loc[('A', 1, 'yes'), 'Values1']"
   ]
  },
  {
   "cell_type": "code",
   "execution_count": null,
   "metadata": {},
   "outputs": [],
   "source": [
    "df.loc['A'].loc[1].loc['yes']['Values1']"
   ]
  },
  {
   "cell_type": "code",
   "execution_count": null,
   "metadata": {},
   "outputs": [],
   "source": [
    "# Creating a Series with a MultiIndex\n",
    "arrays = [['A', 'A', 'B', 'B'], [1, 2, 1, 2]]\n",
    "index = pd.MultiIndex.from_arrays(arrays, names=('Letters', 'Numbers'))\n",
    "\n",
    "data = [10, 20, 30, 40]\n",
    "series = pd.Series(data, index=index)\n",
    "series"
   ]
  },
  {
   "cell_type": "code",
   "execution_count": null,
   "metadata": {},
   "outputs": [],
   "source": [
    "series_unstacked = series.unstack()\n",
    "series_unstacked"
   ]
  },
  {
   "cell_type": "code",
   "execution_count": null,
   "metadata": {},
   "outputs": [],
   "source": [
    "series_stacked = series_unstacked.stack()\n",
    "series_stacked"
   ]
  },
  {
   "cell_type": "code",
   "execution_count": null,
   "metadata": {},
   "outputs": [],
   "source": [
    "series_swapped = series.swaplevel('Letters', 'Numbers')\n",
    "series_swapped"
   ]
  },
  {
   "cell_type": "code",
   "execution_count": null,
   "metadata": {},
   "outputs": [],
   "source": [
    "arrays = [['a','b','c','d'],[1,2,3,4],]\n",
    "tuples = list(zip(*arrays))\n",
    "index = pd.MultiIndex.from_tuples(tuples, names=['first','second'])\n",
    "# values = list(range(1,5))\n",
    "values = np.random.randint(1,5, len(index))\n",
    "s = pd.Series(values, index=index)\n",
    "s"
   ]
  },
  {
   "cell_type": "code",
   "execution_count": null,
   "metadata": {},
   "outputs": [],
   "source": [
    "arrays = [\n",
    "    [\"bar\", \"bar\", \"baz\", \"baz\", \"foo\", \"foo\", \"qux\", \"qux\"],\n",
    "    [\"one\", \"two\", \"one\", \"two\", \"one\", \"two\", \"one\", \"two\"],\n",
    "]\n",
    "tuples = list(zip(*arrays))\n",
    "index = pd.MultiIndex.from_tuples(tuples, names=[\"first\", \"second\"])\n",
    "s = pd.Series(np.random.randn(8), index=index)\n",
    "s"
   ]
  },
  {
   "cell_type": "code",
   "execution_count": null,
   "metadata": {},
   "outputs": [],
   "source": [
    "import pandas as pd\n",
    "\n",
    "arrays = [['bar', 'bar', 'baz', 'baz'],\n",
    "          ['one', 'two', 'one', 'two']]\n",
    "tuples = list(zip(*arrays))\n",
    "\n",
    "index = pd.MultiIndex.from_tuples(tuples, names=['first', 'second'])\n",
    "df = pd.DataFrame({'A': [1, 2, 3, 4]}, index=index)\n",
    "df"
   ]
  },
  {
   "cell_type": "markdown",
   "metadata": {},
   "source": [
    "Slicing with MultiIndex"
   ]
  },
  {
   "cell_type": "code",
   "execution_count": null,
   "metadata": {},
   "outputs": [],
   "source": [
    "# Slicing inner levels\n",
    "df.xs('one', level='second')"
   ]
  },
  {
   "cell_type": "markdown",
   "metadata": {},
   "source": [
    "Stacking and Unstacking"
   ]
  },
  {
   "cell_type": "code",
   "execution_count": null,
   "metadata": {},
   "outputs": [],
   "source": [
    "stacked = df.stack()\n",
    "stacked"
   ]
  },
  {
   "cell_type": "code",
   "execution_count": null,
   "metadata": {},
   "outputs": [],
   "source": [
    "unstacked = stacked.unstack()\n",
    "unstacked"
   ]
  },
  {
   "cell_type": "markdown",
   "metadata": {},
   "source": [
    "Aggregation on Levels"
   ]
  },
  {
   "cell_type": "code",
   "execution_count": null,
   "metadata": {},
   "outputs": [],
   "source": [
    "df.groupby(level=0).sum()"
   ]
  },
  {
   "cell_type": "code",
   "execution_count": null,
   "metadata": {},
   "outputs": [],
   "source": [
    "df.groupby(level=1).sum()"
   ]
  },
  {
   "cell_type": "markdown",
   "metadata": {},
   "source": [
    "Resetting and Setting Index"
   ]
  },
  {
   "cell_type": "code",
   "execution_count": null,
   "metadata": {},
   "outputs": [],
   "source": [
    "df_reset  = df.reset_index()\n",
    "df_reset "
   ]
  },
  {
   "cell_type": "code",
   "execution_count": null,
   "metadata": {},
   "outputs": [],
   "source": [
    "df_reset.index"
   ]
  },
  {
   "cell_type": "code",
   "execution_count": null,
   "metadata": {},
   "outputs": [],
   "source": [
    "df_set = df_reset.set_index(['first', 'second'])\n",
    "df_set"
   ]
  },
  {
   "cell_type": "code",
   "execution_count": null,
   "metadata": {},
   "outputs": [],
   "source": [
    "df_set.index"
   ]
  },
  {
   "cell_type": "markdown",
   "metadata": {},
   "source": [
    "Difference from_product, from_arrays, from_tuples"
   ]
  },
  {
   "cell_type": "code",
   "execution_count": null,
   "metadata": {},
   "outputs": [],
   "source": [
    "years = [2020, 2021]\n",
    "months = ['Jan', 'Feb']\n",
    "index = pd.MultiIndex.from_product([years, months], names=['year', 'month'])\n",
    "index"
   ]
  },
  {
   "cell_type": "code",
   "execution_count": null,
   "metadata": {},
   "outputs": [],
   "source": [
    "dates = [20200101, 20200102]\n",
    "cities = ['New York', 'Los Angeles']\n",
    "index = pd.MultiIndex.from_arrays([dates, cities], names=['date', 'city'])\n",
    "index"
   ]
  },
  {
   "cell_type": "code",
   "execution_count": null,
   "metadata": {},
   "outputs": [],
   "source": [
    "data = [(20200101, 'New York'), (20200102, 'Los Angeles')]\n",
    "index = pd.MultiIndex.from_tuples(data, names=['date', 'city'])\n",
    "index"
   ]
  }
 ],
 "metadata": {
  "kernelspec": {
   "display_name": "Python 3",
   "language": "python",
   "name": "python3"
  },
  "language_info": {
   "codemirror_mode": {
    "name": "ipython",
    "version": 3
   },
   "file_extension": ".py",
   "mimetype": "text/x-python",
   "name": "python",
   "nbconvert_exporter": "python",
   "pygments_lexer": "ipython3",
   "version": "3.10.11"
  }
 },
 "nbformat": 4,
 "nbformat_minor": 2
}
