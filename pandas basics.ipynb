{
 "cells": [
  {
   "cell_type": "code",
   "execution_count": null,
   "metadata": {},
   "outputs": [],
   "source": [
    "import csv\n",
    "import pandas as pd\n",
    "import numpy as np\n",
    "from datetime import datetime, timedelta\n",
    "import random"
   ]
  },
  {
   "cell_type": "code",
   "execution_count": null,
   "metadata": {},
   "outputs": [],
   "source": [
    "with open('stockprice.txt', 'r') as file:\n",
    "    data = file.read()\n",
    "\n",
    "lines = data.split('\\n')\n",
    "split_data = [line.split(',') for line in lines]\n",
    "split_data = split_data[:-1]\n",
    "split_data"
   ]
  },
  {
   "cell_type": "code",
   "execution_count": null,
   "metadata": {},
   "outputs": [],
   "source": [
    "with open('stockprice.csv', 'w', newline='') as file:\n",
    "    writer = csv.writer(file)\n",
    "    writer.writerows(split_data)"
   ]
  },
  {
   "cell_type": "code",
   "execution_count": null,
   "metadata": {},
   "outputs": [],
   "source": [
    "df = pd.read_csv('stockprice.txt')\n",
    "df"
   ]
  },
  {
   "cell_type": "code",
   "execution_count": null,
   "metadata": {},
   "outputs": [],
   "source": [
    "df = pd.read_csv('sample_stockprice.csv')\n",
    "df"
   ]
  },
  {
   "cell_type": "code",
   "execution_count": null,
   "metadata": {},
   "outputs": [],
   "source": [
    "# Set the seed for reproducibility\n",
    "random.seed(0)\n",
    "\n",
    "# Generate dates for one year\n",
    "start_date = datetime(2023, 1, 1)\n",
    "end_date = datetime(2023, 12, 31)\n",
    "delta = end_date - start_date\n",
    "\n",
    "date_list = [start_date + timedelta(days=i) for i in range(delta.days + 1)]\n",
    "\n",
    "# Generate stock data\n",
    "data = {\n",
    "    'Date': [],\n",
    "    'Open': [],\n",
    "    'High': [],\n",
    "    'Low': [],\n",
    "    'Close': [],\n",
    "    'Volume': []\n",
    "}\n",
    "\n",
    "for date in date_list:\n",
    "    if date.weekday() < 5:  # Assuming stock market is closed on weekends\n",
    "        open_price = random.uniform(100, 200)  # Random open price between 100 and 200\n",
    "        close_price = open_price + random.uniform(-10, 10)  # Close price within $10 of open\n",
    "        high_price = max(open_price, close_price) + random.uniform(0, 5)  # High within $5 of higher of open/close\n",
    "        low_price = min(open_price, close_price) - random.uniform(0, 5)  # Low within $5 of lower of open/close\n",
    "        volume = random.randint(1000, 10000)  # Random volume between 1000 and 10000\n",
    "\n",
    "        data['Date'].append(date)\n",
    "        data['Open'].append(open_price)\n",
    "        data['High'].append(high_price)\n",
    "        data['Low'].append(low_price)\n",
    "        data['Close'].append(close_price)\n",
    "        data['Volume'].append(volume)\n",
    "\n",
    "df = pd.DataFrame(data)\n",
    "df"
   ]
  },
  {
   "cell_type": "code",
   "execution_count": null,
   "metadata": {},
   "outputs": [],
   "source": [
    "df.dropna(inplace=True) \n",
    "df['Date'] = pd.to_datetime(df['Date'])  "
   ]
  },
  {
   "cell_type": "code",
   "execution_count": null,
   "metadata": {},
   "outputs": [],
   "source": [
    "df['Daily_Return'] = df['Close'].pct_change(1)\n",
    "df['MA50'] = df['Close'].rolling(window=50).mean()  # 50-day moving average\n",
    "df['MA200'] = df['Close'].rolling(window=200).mean()  # 200-day moving average\n",
    "df['Volatility'] = df['Daily_Return'].rolling(window=50).std() * np.sqrt(50)\n",
    "df['Cumulative_Return'] = (1 + df['Daily_Return']).cumprod()"
   ]
  },
  {
   "cell_type": "code",
   "execution_count": null,
   "metadata": {},
   "outputs": [],
   "source": [
    "df"
   ]
  },
  {
   "cell_type": "code",
   "execution_count": null,
   "metadata": {},
   "outputs": [],
   "source": [
    "start_date = '2020-01-01'\n",
    "end_date = '2020-12-31'\n",
    "mask = (df['Date'] >= start_date) & (df['Date'] <= end_date)\n",
    "filtered_df = df.loc[mask]"
   ]
  },
  {
   "cell_type": "code",
   "execution_count": null,
   "metadata": {},
   "outputs": [],
   "source": [
    "df.describe()"
   ]
  },
  {
   "cell_type": "code",
   "execution_count": null,
   "metadata": {},
   "outputs": [],
   "source": [
    "random.randint(1000, 10000)"
   ]
  },
  {
   "cell_type": "code",
   "execution_count": null,
   "metadata": {},
   "outputs": [],
   "source": [
    "random_integers = [random.randint(1000, 10000) for _ in range(10)]\n",
    "random_integers"
   ]
  },
  {
   "cell_type": "code",
   "execution_count": null,
   "metadata": {},
   "outputs": [],
   "source": []
  }
 ],
 "metadata": {
  "kernelspec": {
   "display_name": "Python 3",
   "language": "python",
   "name": "python3"
  },
  "language_info": {
   "codemirror_mode": {
    "name": "ipython",
    "version": 3
   },
   "file_extension": ".py",
   "mimetype": "text/x-python",
   "name": "python",
   "nbconvert_exporter": "python",
   "pygments_lexer": "ipython3",
   "version": "3.10.11"
  }
 },
 "nbformat": 4,
 "nbformat_minor": 2
}
