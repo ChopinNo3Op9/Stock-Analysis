{
 "cells": [
  {
   "cell_type": "code",
   "execution_count": null,
   "metadata": {},
   "outputs": [],
   "source": [
    "import pandas as pd\n",
    "import numpy as np"
   ]
  },
  {
   "cell_type": "code",
   "execution_count": null,
   "metadata": {},
   "outputs": [],
   "source": [
    "dates = pd.date_range('2023-01-01', periods=5)\n",
    "tickers = ['AAPL', 'MSFT', 'GOOGL']\n",
    "\n",
    "index = pd.MultiIndex.from_product([dates, tickers], names=['date', 'ticker'])\n",
    "data = pd.DataFrame({'price': [100, 200, 300, 400, 500] * 3}, index=index)\n",
    "data"
   ]
  },
  {
   "cell_type": "code",
   "execution_count": null,
   "metadata": {},
   "outputs": [],
   "source": [
    "markets = ['NYSE', 'NASDAQ']\n",
    "index = pd.MultiIndex.from_product([dates, tickers, markets], names=['date', 'ticker', 'market'])\n",
    "data = pd.DataFrame({'price': np.random.rand(30)}, index=index)\n",
    "data"
   ]
  },
  {
   "cell_type": "code",
   "execution_count": null,
   "metadata": {},
   "outputs": [],
   "source": [
    "# Aggregate data by market\n",
    "market_data = data.groupby(level='market').mean()\n",
    "market_data"
   ]
  },
  {
   "cell_type": "code",
   "execution_count": null,
   "metadata": {},
   "outputs": [],
   "source": [
    "metrics = ['price', 'volume']\n",
    "index = pd.MultiIndex.from_product([dates, tickers, metrics], names=['date', 'ticker', 'metric'])\n",
    "data = pd.DataFrame({'value': np.random.rand(30)}, index=index)\n",
    "data"
   ]
  },
  {
   "cell_type": "code",
   "execution_count": null,
   "metadata": {},
   "outputs": [],
   "source": [
    "# Accessing price data for a specific ticker\n",
    "price_data = data.xs('price', level='metric').xs('AAPL', level='ticker')\n",
    "price_data"
   ]
  },
  {
   "cell_type": "code",
   "execution_count": null,
   "metadata": {},
   "outputs": [],
   "source": [
    "# Sample data\n",
    "dates = pd.date_range('20230101', periods=5)\n",
    "tickers = ['AAPL', 'MSFT', 'GOOGL']\n",
    "metrics = ['price', 'volume', 'pe_ratio']\n",
    "\n",
    "index = pd.MultiIndex.from_product([dates, tickers, metrics], names=['date', 'ticker', 'metric'])\n",
    "data = np.random.randn(45, 1)\n",
    "\n",
    "df = pd.DataFrame(data, index=index, columns=['value'])\n",
    "df"
   ]
  },
  {
   "cell_type": "code",
   "execution_count": null,
   "metadata": {},
   "outputs": [],
   "source": [
    "# Selecting price and volume data for a specific stock\n",
    "aapl_data = df.xs('AAPL', level='ticker').unstack(level='metric')[['value']]\n",
    "aapl_data"
   ]
  },
  {
   "cell_type": "code",
   "execution_count": null,
   "metadata": {},
   "outputs": [],
   "source": [
    "# Resampling to get monthly data for each stock\n",
    "monthly_data = df['value'].unstack(level='ticker').resample('M', level='date').mean()\n",
    "monthly_data"
   ]
  },
  {
   "cell_type": "code",
   "execution_count": null,
   "metadata": {},
   "outputs": [],
   "source": [
    "sectors = ['Technology', 'Technology', 'Healthcare']\n",
    "index = pd.MultiIndex.from_product([dates, tickers, sectors], names=['date', 'ticker', 'sector'])\n",
    "data = pd.DataFrame(np.random.randn(45, 1), index=index, columns=['price'])\n",
    "data"
   ]
  },
  {
   "cell_type": "code",
   "execution_count": null,
   "metadata": {},
   "outputs": [],
   "source": [
    "# Aggregating data by sector\n",
    "sector_data = data.groupby(level='sector').mean()\n",
    "sector_data"
   ]
  },
  {
   "cell_type": "code",
   "execution_count": null,
   "metadata": {},
   "outputs": [],
   "source": [
    "countries = ['USA', 'USA', 'Germany']\n",
    "index = pd.MultiIndex.from_product([dates, tickers, countries], names=['date', 'ticker', 'country'])\n",
    "data = pd.DataFrame(np.random.randn(45, 1), index=index, columns=['price'])\n",
    "data"
   ]
  },
  {
   "cell_type": "code",
   "execution_count": null,
   "metadata": {},
   "outputs": [],
   "source": [
    "# Accessing data for a specific country\n",
    "usa_data = data.xs('USA', level='country')\n",
    "usa_data"
   ]
  },
  {
   "cell_type": "code",
   "execution_count": null,
   "metadata": {},
   "outputs": [],
   "source": [
    "strikes = [100, 110, 120]\n",
    "maturities = ['2023-06-01', '2023-12-01']\n",
    "index = pd.MultiIndex.from_product([tickers, maturities, strikes], names=['ticker', 'maturity', 'strike'])\n",
    "option_data = pd.DataFrame(np.random.randn(18, 1), index=index, columns=['option_price'])\n",
    "option_data"
   ]
  }
 ],
 "metadata": {
  "kernelspec": {
   "display_name": "Python 3",
   "language": "python",
   "name": "python3"
  },
  "language_info": {
   "codemirror_mode": {
    "name": "ipython",
    "version": 3
   },
   "file_extension": ".py",
   "mimetype": "text/x-python",
   "name": "python",
   "nbconvert_exporter": "python",
   "pygments_lexer": "ipython3",
   "version": "3.10.11"
  }
 },
 "nbformat": 4,
 "nbformat_minor": 2
}
